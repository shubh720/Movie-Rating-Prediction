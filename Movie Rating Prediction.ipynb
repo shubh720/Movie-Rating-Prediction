{
 "cells": [
  {
   "cell_type": "code",
   "execution_count": 1,
   "metadata": {},
   "outputs": [],
   "source": [
    "from nltk.tokenize import RegexpTokenizer\n",
    "from nltk.corpus import stopwords\n",
    "from nltk.stem import PorterStemmer"
   ]
  },
  {
   "cell_type": "code",
   "execution_count": 3,
   "metadata": {},
   "outputs": [],
   "source": [
    "# objects\n",
    "regexp = RegexpTokenizer(r'\\w+')\n",
    "ps = PorterStemmer()\n",
    "sw = stopwords.words('english')"
   ]
  },
  {
   "cell_type": "code",
   "execution_count": 14,
   "metadata": {},
   "outputs": [],
   "source": [
    "# cleaning, considering only suitable words\n",
    "def getCleanedReview(review):\n",
    "    \n",
    "    review = review.lower()\n",
    "    review = review.replace('<br /><br />',' ')\n",
    "    \n",
    "    token = regexp.tokenize(review)\n",
    "    sw_tokens = []\n",
    "    for word in token:\n",
    "        if word not in sw:\n",
    "            sw_tokens.append(ps.stem(word))\n",
    "    \n",
    "    return ' '.join(sw_tokens)"
   ]
  },
  {
   "cell_type": "code",
   "execution_count": 26,
   "metadata": {},
   "outputs": [],
   "source": [
    "with open('x_toy.txt','r') as f:\n",
    "    data = f.readlines()\n",
    "    out = open('x_toy_train.txt','w')\n",
    "    \n",
    "    for review in data:\n",
    "        output = getCleanedReview(review)\n",
    "        print((output),file=out)\n",
    "    \n",
    "    out.close()"
   ]
  },
  {
   "cell_type": "code",
   "execution_count": 27,
   "metadata": {},
   "outputs": [],
   "source": [
    "from sklearn.feature_extraction.text import CountVectorizer"
   ]
  },
  {
   "cell_type": "code",
   "execution_count": 28,
   "metadata": {},
   "outputs": [],
   "source": [
    "cv = CountVectorizer()"
   ]
  },
  {
   "cell_type": "code",
   "execution_count": 29,
   "metadata": {},
   "outputs": [],
   "source": [
    "with open('x_toy_train.txt','r') as f:\n",
    "    xtrain = f.readlines()"
   ]
  },
  {
   "cell_type": "code",
   "execution_count": 30,
   "metadata": {},
   "outputs": [
    {
     "name": "stdout",
     "output_type": "stream",
     "text": [
      "['love movi sinc 7 saw open day touch beauti strongli recommend see movi watch famili far mpaa rate pg 13 themat element prolong scene disastor nuditi sexual languag\\n', 'clint eastwood definit produc better movi one embarrass dirti harri catch everyon attent unless one want watch romanc reason like cool dirti great kill without much think perfect get bullet right heart hero care seen movi eastwood act charact lead role alway captiv audienc white hunter black heart crazi director line fire old un almost jobless job say make work care one damn superior practic send vacat base rape victim movi promis non sens movi watcher movi noth goe away central plot howev make slightli inferior better movi eastwood though charact lead role captiv plot far obviou begin movi go make sit place without move also mani peopl far dirtier dirti harri\\n', 'brows discount video bin pick movi 4 88 fifti percent time movi find bin pure crap mean horribl beyond belief half time turn surprisingli good movi much better expect found engag though obvious made amateur direct noth special stori intrigu good thrill expect comedi disappoint thriller movi surprisingli good natur bloodi violenc profan nuditi sex usual movi requir four element pg rate well deserv like sixteen candl f word use twice brief gratuit nude scene wish romanc corey haim love interest could develop film tend plot heavi potenti good subplot push side instead develop chemistri two end watch careless three minut montag romant endeavor end kiss end littl chemistri seem forc dream machin gem good clean entertain quit forgett especi cast unknown except haim also much better expect score 7 10\\n']\n"
     ]
    }
   ],
   "source": [
    "print(xtrain)"
   ]
  },
  {
   "cell_type": "code",
   "execution_count": 31,
   "metadata": {},
   "outputs": [],
   "source": [
    "xtrain = cv.fit_transform(xtrain)  # fit to bag of word"
   ]
  },
  {
   "cell_type": "code",
   "execution_count": 32,
   "metadata": {},
   "outputs": [],
   "source": [
    "xtest = [ \"not really sure what to make of this movie. very weird, very artsy. not the kind of movie you watch because it has a compelling plot or characters. more like the kind of movie that you can't stop watching because of the horrifically fascinating things happening on screen. although, the first time my wife watched this she couldn't make it all the way through... too disturbing for her. runs a bit long, but nonetheless a worthwhile viewing for those interested in very dark movies.\",\n",
    "            \"If you enjoyed films like Pulp Fiction, Reservoir Dogs, and Lock, Stock, and Two Smoking Barrels, you are going to LOVE Two Hands. It has the same type of black humor beat to it and will keep you entertained through the whole film. Like Pulp Fiction, it has the wacky scenarios that the characters get into and how they deal with them. Along with Gallipoli and Picnic at Hanging Rock, this has to be one of the best Australian films I've seen. It also stars a young Heath Ledger before he got real big in the states.<br /><br />This is a terribly underrated movie that I believe is just as good as Pulp Fiction and those greats. You have to see it!\"]"
   ]
  },
  {
   "cell_type": "code",
   "execution_count": 33,
   "metadata": {},
   "outputs": [],
   "source": [
    "x_test_clean = []\n",
    "for review in xtest:\n",
    "    out = getCleanedReview(review)\n",
    "    x_test_clean.append(out)"
   ]
  },
  {
   "cell_type": "code",
   "execution_count": 34,
   "metadata": {},
   "outputs": [
    {
     "name": "stdout",
     "output_type": "stream",
     "text": [
      "['realli sure make movi weird artsi kind movi watch compel plot charact like kind movi stop watch horrif fascin thing happen screen although first time wife watch make way disturb run bit long nonetheless worthwhil view interest dark movi', 'enjoy film like pulp fiction reservoir dog lock stock two smoke barrel go love two hand type black humor beat keep entertain whole film like pulp fiction wacki scenario charact get deal along gallipoli picnic hang rock one best australian film seen also star young heath ledger got real big state terribl underr movi believ good pulp fiction great see']\n"
     ]
    }
   ],
   "source": [
    "print(x_test_clean)"
   ]
  },
  {
   "cell_type": "code",
   "execution_count": 35,
   "metadata": {},
   "outputs": [
    {
     "name": "stdout",
     "output_type": "stream",
     "text": [
      "  (0, 103)\t1\n",
      "  (0, 112)\t2\n",
      "  (0, 162)\t1\n",
      "  (0, 150)\t1\n",
      "  (0, 124)\t1\n",
      "  (0, 41)\t1\n",
      "  (0, 180)\t1\n",
      "  (0, 12)\t1\n",
      "  (0, 168)\t1\n",
      "  (0, 144)\t1\n",
      "  (0, 154)\t1\n",
      "  (0, 194)\t1\n",
      "  (0, 64)\t1\n",
      "  (0, 65)\t1\n",
      "  (0, 113)\t1\n",
      "  (0, 142)\t1\n",
      "  (0, 128)\t1\n",
      "  (0, 1)\t1\n",
      "  (0, 173)\t1\n",
      "  (0, 54)\t1\n",
      "  (0, 136)\t1\n",
      "  (0, 152)\t1\n",
      "  (0, 50)\t1\n",
      "  (0, 119)\t1\n",
      "  (0, 160)\t1\n",
      "  :\t:\n",
      "  (2, 183)\t1\n",
      "  (2, 56)\t3\n",
      "  (2, 26)\t1\n",
      "  (2, 176)\t1\n",
      "  (2, 109)\t1\n",
      "  (2, 110)\t1\n",
      "  (2, 149)\t1\n",
      "  (2, 57)\t1\n",
      "  (2, 97)\t1\n",
      "  (2, 102)\t1\n",
      "  (2, 155)\t1\n",
      "  (2, 70)\t1\n",
      "  (2, 52)\t1\n",
      "  (2, 104)\t1\n",
      "  (2, 74)\t1\n",
      "  (2, 32)\t1\n",
      "  (2, 59)\t1\n",
      "  (2, 140)\t1\n",
      "  (2, 71)\t1\n",
      "  (2, 60)\t1\n",
      "  (2, 27)\t1\n",
      "  (2, 185)\t1\n",
      "  (2, 62)\t1\n",
      "  (2, 153)\t1\n",
      "  (2, 0)\t1\n"
     ]
    }
   ],
   "source": [
    "print(xtrain)"
   ]
  },
  {
   "cell_type": "code",
   "execution_count": 36,
   "metadata": {},
   "outputs": [],
   "source": [
    "x_test_clean = cv.transform(x_test_clean)"
   ]
  },
  {
   "cell_type": "code",
   "execution_count": 39,
   "metadata": {},
   "outputs": [
    {
     "name": "stdout",
     "output_type": "stream",
     "text": [
      "[[0 0 0 0 0 0 0 0 0 0 0 0 0 0 0 0 0 0 0 0 0 0 0 0 0 0 0 0 0 0 1 0 0 0 0 0\n",
      "  0 0 0 0 0 0 0 0 0 0 0 0 0 0 0 0 0 0 0 0 0 0 0 0 0 0 0 0 0 0 0 0 0 0 0 0\n",
      "  0 0 0 0 0 0 0 0 0 0 0 0 0 0 0 0 0 0 0 0 1 0 0 0 0 0 0 0 1 0 0 0 0 0 2 0\n",
      "  0 0 0 0 4 0 0 0 0 0 0 0 0 0 0 0 0 0 0 0 0 0 0 1 0 0 0 0 0 0 0 0 0 0 0 0\n",
      "  0 0 0 0 0 0 0 0 0 0 0 0 0 0 0 0 0 0 0 0 0 0 0 0 0 0 0 0 0 0 0 0 0 0 0 1\n",
      "  0 0 0 0 0 0 0 0 0 0 0 0 0 0 3 0 0 0 0 0 0 0]\n",
      " [0 0 0 0 0 1 0 0 0 0 0 0 0 0 0 0 0 0 1 0 0 0 0 0 0 0 0 0 0 0 1 0 0 0 0 0\n",
      "  0 0 0 0 0 0 0 0 0 0 0 0 0 0 0 0 0 0 0 0 0 0 0 1 0 0 0 0 0 0 0 3 0 0 0 0\n",
      "  0 0 0 1 1 0 1 0 1 0 0 0 0 0 0 0 0 0 0 0 0 0 0 0 0 0 0 0 2 0 0 1 0 0 0 0\n",
      "  0 0 0 0 1 0 0 0 0 0 0 0 0 0 0 1 0 0 0 0 0 0 0 0 0 0 0 0 0 0 0 0 0 0 0 0\n",
      "  0 0 0 0 0 0 0 0 0 0 1 0 1 0 0 0 0 0 0 0 0 0 0 0 0 0 0 0 0 0 0 0 0 0 0 0\n",
      "  0 0 0 2 0 0 0 0 0 0 0 0 0 0 0 0 0 0 0 0 0 0]]\n"
     ]
    }
   ],
   "source": [
    "print(x_test_clean.toarray())"
   ]
  },
  {
   "cell_type": "code",
   "execution_count": 40,
   "metadata": {},
   "outputs": [],
   "source": [
    "# create model for testing\n",
    "from sklearn.naive_bayes import MultinomialNB"
   ]
  },
  {
   "cell_type": "code",
   "execution_count": 41,
   "metadata": {},
   "outputs": [],
   "source": [
    "mnb = MultinomialNB()"
   ]
  },
  {
   "cell_type": "code",
   "execution_count": 49,
   "metadata": {},
   "outputs": [
    {
     "name": "stdout",
     "output_type": "stream",
     "text": [
      "MultinomialNB(alpha=1.0, class_prior=None, fit_prior=True)\n"
     ]
    }
   ],
   "source": [
    "#out = open('y_toy.txt','r')\n",
    "print(mnb.fit(xtrain,[10,8,7]))\n",
    "#out.close()"
   ]
  },
  {
   "cell_type": "code",
   "execution_count": 50,
   "metadata": {},
   "outputs": [
    {
     "name": "stdout",
     "output_type": "stream",
     "text": [
      "[8 8]\n"
     ]
    }
   ],
   "source": [
    "# PREDICTED VALUE\n",
    "\n",
    "print(mnb.predict(x_test_clean))"
   ]
  },
  {
   "cell_type": "code",
   "execution_count": 55,
   "metadata": {},
   "outputs": [
    {
     "name": "stdout",
     "output_type": "stream",
     "text": [
      "[[0.01290545 0.98149775 0.00559681]\n",
      " [0.30424829 0.54805321 0.1476985 ]]\n"
     ]
    }
   ],
   "source": [
    "print(mnb.predict_proba(x_test_clean))"
   ]
  },
  {
   "cell_type": "code",
   "execution_count": null,
   "metadata": {},
   "outputs": [],
   "source": []
  }
 ],
 "metadata": {
  "kernelspec": {
   "display_name": "Python 3",
   "language": "python",
   "name": "python3"
  },
  "language_info": {
   "codemirror_mode": {
    "name": "ipython",
    "version": 3
   },
   "file_extension": ".py",
   "mimetype": "text/x-python",
   "name": "python",
   "nbconvert_exporter": "python",
   "pygments_lexer": "ipython3",
   "version": "3.7.6"
  }
 },
 "nbformat": 4,
 "nbformat_minor": 4
}
